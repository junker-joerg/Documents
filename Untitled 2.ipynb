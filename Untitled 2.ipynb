{
 "cells": [
  {
   "cell_type": "code",
   "execution_count": 1,
   "metadata": {},
   "outputs": [
    {
     "name": "stdout",
     "output_type": "stream",
     "text": [
      "Collecting mesa\n",
      "  Downloading https://files.pythonhosted.org/packages/cc/b7/5bde310fcbb82d7741ce74fa171892a7d4599a719b5e8373f38a7e66d8fc/Mesa-0.8.7-py3-none-any.whl (648kB)\n",
      "\u001b[K     |████████████████████████████████| 655kB 2.4MB/s eta 0:00:01\n",
      "\u001b[?25hCollecting cookiecutter (from mesa)\n",
      "  Downloading https://files.pythonhosted.org/packages/95/83/83ebf950ec99b02c61719ccb116462844ba2e873df7c4d40afc962494312/cookiecutter-1.7.2-py2.py3-none-any.whl\n",
      "Requirement already satisfied: numpy in /private/var/mobile/Containers/Data/Application/5239B78B-D23A-4132-93E7-9F7C4A48B352/Library/lib/python3.7/site-packages/numpy-1.16.0-py3.7-macosx-10.9-x86_64.egg (from mesa) (1.16.0)\n",
      "Collecting click (from mesa)\n",
      "  Downloading https://files.pythonhosted.org/packages/d2/3d/fa76db83bf75c4f8d338c2fd15c8d33fdd7ad23a9b5e57eb6c5de26b430e/click-7.1.2-py2.py3-none-any.whl (82kB)\n",
      "\u001b[K     |████████████████████████████████| 92kB 6.8MB/s eta 0:00:01\n",
      "\u001b[?25hRequirement already satisfied: tornado in /private/var/mobile/Containers/Data/Application/5239B78B-D23A-4132-93E7-9F7C4A48B352/Library/lib/python3.7/site-packages/tornado-6.0.1-py3.7-macosx-12.1-iPad6,7.egg (from mesa) (6.0.1)\n",
      "Requirement already satisfied: tqdm in /private/var/mobile/Containers/Data/Application/5239B78B-D23A-4132-93E7-9F7C4A48B352/Library/lib/python3.7/site-packages (from mesa) (4.32.1)\n",
      "Requirement already satisfied: pandas in /private/var/mobile/Containers/Data/Application/5239B78B-D23A-4132-93E7-9F7C4A48B352/Library/lib/python3.7/site-packages/pandas-0.24.2-py3.7-macosx-10.9-x86_64.egg (from mesa) (0.24.2)\n",
      "Requirement already satisfied: networkx in /private/var/mobile/Containers/Data/Application/5239B78B-D23A-4132-93E7-9F7C4A48B352/Library/lib/python3.7/site-packages (from mesa) (2.3)\n",
      "\r"
     ]
    },
    {
     "name": "stderr",
     "output_type": "stream",
     "text": [
      "\u001b[33mWARNING: No metadata found in /private/var/mobile/Containers/Data/Application/5239B78B-D23A-4132-93E7-9F7C4A48B352/Library/lib/python3.7/site-packages\u001b[0m\n",
      "\r"
     ]
    },
    {
     "name": "stdout",
     "output_type": "stream",
     "text": [
      "Collecting poyo>=0.5.0 (from cookiecutter->mesa)\n",
      "  Downloading https://files.pythonhosted.org/packages/42/50/0b0820601bde2eda403f47b9a4a1f270098ed0dd4c00c443d883164bdccc/poyo-0.5.0-py2.py3-none-any.whl\n",
      "Requirement already satisfied: six>=1.10 in /private/var/mobile/Containers/Data/Application/5239B78B-D23A-4132-93E7-9F7C4A48B352/Library/lib/python3.7/site-packages (from cookiecutter->mesa) (1.12.0)\n",
      "Collecting python-slugify>=4.0.0 (from cookiecutter->mesa)\n",
      "  Downloading https://files.pythonhosted.org/packages/92/5f/7b84a0bba8a0fdd50c046f8b57dcf179dc16237ad33446079b7c484de04c/python-slugify-4.0.0.tar.gz\n",
      "Requirement already satisfied: MarkupSafe<2.0.0 in /private/var/mobile/Containers/Data/Application/5239B78B-D23A-4132-93E7-9F7C4A48B352/Library/lib/python3.7/site-packages (from cookiecutter->mesa) (1.1.0)\n",
      "Collecting requests>=2.23.0 (from cookiecutter->mesa)\n",
      "  Downloading https://files.pythonhosted.org/packages/1a/70/1935c770cb3be6e3a8b78ced23d7e0f3b187f5cbfab4749523ed65d7c9b1/requests-2.23.0-py2.py3-none-any.whl (58kB)\n",
      "\u001b[K     |████████████████████████████████| 61kB 5.6MB/s  0:00:01:01\n",
      "\u001b[?25hRequirement already satisfied: Jinja2<3.0.0 in /private/var/mobile/Containers/Data/Application/5239B78B-D23A-4132-93E7-9F7C4A48B352/Library/lib/python3.7/site-packages (from cookiecutter->mesa) (2.10)\n",
      "Collecting binaryornot>=0.4.4 (from cookiecutter->mesa)\n",
      "  Downloading https://files.pythonhosted.org/packages/24/7e/f7b6f453e6481d1e233540262ccbfcf89adcd43606f44a028d7f5fae5eb2/binaryornot-0.4.4-py2.py3-none-any.whl\n",
      "Collecting jinja2-time>=0.2.0 (from cookiecutter->mesa)\n",
      "  Downloading https://files.pythonhosted.org/packages/6a/a1/d44fa38306ffa34a7e1af09632b158e13ec89670ce491f8a15af3ebcb4e4/jinja2_time-0.2.0-py2.py3-none-any.whl\n",
      "Requirement already satisfied: python-dateutil>=2.5.0 in /private/var/mobile/Containers/Data/Application/5239B78B-D23A-4132-93E7-9F7C4A48B352/Library/lib/python3.7/site-packages (from pandas->mesa) (2.7.5)\n",
      "Requirement already satisfied: pytz>=2011k in /private/var/mobile/Containers/Data/Application/5239B78B-D23A-4132-93E7-9F7C4A48B352/Library/lib/python3.7/site-packages (from pandas->mesa) (2018.9)\n",
      "Collecting text-unidecode>=1.3 (from python-slugify>=4.0.0->cookiecutter->mesa)\n",
      "  Downloading https://files.pythonhosted.org/packages/a6/a5/c0b6468d3824fe3fde30dbb5e1f687b291608f9473681bbf7dabbf5a87d7/text_unidecode-1.3-py2.py3-none-any.whl (78kB)\n",
      "\u001b[K     |████████████████████████████████| 81kB 6.5MB/s  0:00:01:01\n",
      "\u001b[?25hRequirement already satisfied: certifi>=2017.4.17 in /private/var/mobile/Containers/Data/Application/5239B78B-D23A-4132-93E7-9F7C4A48B352/Library/lib/python3.7/site-packages (from requests>=2.23.0->cookiecutter->mesa) (2019.3.9)\n",
      "Requirement already satisfied: idna<3,>=2.5 in /private/var/mobile/Containers/Data/Application/5239B78B-D23A-4132-93E7-9F7C4A48B352/Library/lib/python3.7/site-packages (from requests>=2.23.0->cookiecutter->mesa) (2.8)\n",
      "Requirement already satisfied: urllib3!=1.25.0,!=1.25.1,<1.26,>=1.21.1 in /private/var/mobile/Containers/Data/Application/5239B78B-D23A-4132-93E7-9F7C4A48B352/Library/lib/python3.7/site-packages (from requests>=2.23.0->cookiecutter->mesa) (1.24.1)\n",
      "Requirement already satisfied: chardet<4,>=3.0.2 in /private/var/mobile/Containers/Data/Application/5239B78B-D23A-4132-93E7-9F7C4A48B352/Library/lib/python3.7/site-packages (from requests>=2.23.0->cookiecutter->mesa) (3.0.4)\n",
      "Collecting arrow (from jinja2-time>=0.2.0->cookiecutter->mesa)\n",
      "  Downloading https://files.pythonhosted.org/packages/99/b5/1f1c5ef3156f7b514c58613fe56e5670dc56374ab744bd1eb653c95e16b5/arrow-0.15.6-py2.py3-none-any.whl (47kB)\n",
      "\u001b[K     |████████████████████████████████| 51kB 5.7MB/s eta 0:00:01\n",
      "\u001b[?25hInstalling collected packages: poyo, text-unidecode, python-slugify, requests, click, binaryornot, arrow, jinja2-time, cookiecutter, mesa\n",
      "  Found existing installation: text-unidecode 1.2\n",
      "    Uninstalling text-unidecode-1.2:\n",
      "      Successfully uninstalled text-unidecode-1.2\n",
      "  Found existing installation: python-slugify 3.0.2\n",
      "    Uninstalling python-slugify-3.0.2:\n",
      "      Successfully uninstalled python-slugify-3.0.2\n",
      "  Running setup.py install for python-slugify ... \u001b[?25l-done\n",
      "\u001b[?25h  Found existing installation: requests 2.21.0\n",
      "    Uninstalling requests-2.21.0:\n",
      "      Successfully uninstalled requests-2.21.0\n",
      "Successfully installed arrow-0.15.6 binaryornot-0.4.4 click-7.1.2 cookiecutter-1.7.2 jinja2-time-0.2.0 mesa-0.8.7 poyo-0.5.0 python-slugify-4.0.0 requests-2.23.0 text-unidecode-1.3\n",
      "\r"
     ]
    }
   ],
   "source": [
    "!pip install mesa"
   ]
  },
  {
   "cell_type": "code",
   "execution_count": 2,
   "metadata": {},
   "outputs": [],
   "source": [
    "import mesa"
   ]
  },
  {
   "cell_type": "code",
   "execution_count": null,
   "metadata": {},
   "outputs": [],
   "source": [
    "from mesa import agent, model"
   ]
  }
 ],
 "metadata": {
  "kernelspec": {
   "display_name": "Python 3",
   "language": "python",
   "name": "python3"
  },
  "language_info": {
   "codemirror_mode": {
    "name": "ipython",
    "version": 3
   },
   "file_extension": ".py",
   "mimetype": "text/x-python",
   "name": "python",
   "nbconvert_exporter": "python",
   "pygments_lexer": "ipython3",
   "version": "3.7.1"
  },
  "varInspector": {
   "cols": {
    "lenName": 16,
    "lenType": 16,
    "lenVar": 40
   },
   "kernels_config": {
    "python": {
     "delete_cmd_postfix": "",
     "delete_cmd_prefix": "del ",
     "library": "var_list.py",
     "varRefreshCmd": "print(var_dic_list())"
    },
    "r": {
     "delete_cmd_postfix": ") ",
     "delete_cmd_prefix": "rm(",
     "library": "var_list.r",
     "varRefreshCmd": "cat(var_dic_list()) "
    }
   },
   "types_to_exclude": [
    "module",
    "function",
    "builtin_function_or_method",
    "instance",
    "_Feature"
   ],
   "window_display": false
  }
 },
 "nbformat": 4,
 "nbformat_minor": 2
}
