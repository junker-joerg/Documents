{
 "cells": [
  {
   "cell_type": "code",
   "execution_count": 1,
   "metadata": {},
   "outputs": [],
   "source": [
    "from __future__ import print_function, division\n",
    "# import numpy as np\n",
    "import matplotlib as mpl\n",
    "import matplotlib.pyplot as plt\n",
    "%matplotlib inline"
   ]
  },
  {
   "cell_type": "code",
   "execution_count": 2,
   "metadata": {},
   "outputs": [],
   "source": [
    "import pandas as pd "
   ]
  },
  {
   "cell_type": "code",
   "execution_count": null,
   "metadata": {},
   "outputs": [],
   "source": [
    "# vom Dell Laptop"
   ]
  },
  {
   "cell_type": "code",
   "execution_count": 1,
   "metadata": {},
   "outputs": [
    {
     "name": "stdout",
     "output_type": "stream",
     "text": [
      "Collecting linearmodels\n",
      "  Downloading https://files.pythonhosted.org/packages/f3/3d/5e9b094c323506e15958bf0c9352d616ca6aa9582017f2dc81a062662a0e/linearmodels-4.14-py2.py3-none-any.whl (1.4MB)\n",
      "Collecting property-cached>=1.6.3 (from linearmodels)\n",
      "  Downloading https://files.pythonhosted.org/packages/c0/11/6e91ff5fe0476492f023cebad434a1a34fc513cfa98ddb1f3e5c856d2d99/property_cached-1.6.3-py2.py3-none-any.whl\n",
      "Collecting statsmodels>=0.9 (from linearmodels)\n",
      "  Downloading https://files.pythonhosted.org/packages/9c/8f/a28c4f3a4192ea38a6cee092aac1d52ef69dbc65461b5969a296ef5246d5/statsmodels-0.10.2.tar.gz (14.1MB)\n"
     ]
    },
    {
     "name": "stderr",
     "output_type": "stream",
     "text": [
      "    ERROR: Complete output from command python setup.py egg_info:\n",
      "    ERROR: /private/var/mobile/Containers/Data/Application/0BA188CA-E9C3-43C9-95B1-07DECEAB16B8/tmp/easy_install-sj9lk4_u/scipy-1.4.1/setup.py:420: UserWarning: Unrecognized setuptools command ('-q bdist_egg --dist-dir /private/var/mobile/Containers/Data/Application/0BA188CA-E9C3-43C9-95B1-07DECEAB16B8/tmp/easy_install-sj9lk4_u/scipy-1.4.1/egg-dist-tmp-uznxucki'), proceeding with generating Cython sources and expanding templates\n",
      "      ' '.join(sys.argv[1:])))\n",
      "    Running from scipy source directory.\n",
      "    /var/mobile/Containers/Data/Application/0BA188CA-E9C3-43C9-95B1-07DECEAB16B8/Library/lib/python3.7/site-packages/numpy-1.16.0-py3.7-macosx-10.9-x86_64.egg/numpy/distutils/system_info.py:626: UserWarning:\n",
      "        Atlas (http://math-atlas.sourceforge.net/) libraries not found.\n",
      "        Directories to search for the libraries can be specified in the\n",
      "        numpy/distutils/site.cfg file (section [atlas]) or by setting\n",
      "        the ATLAS environment variable.\n",
      "      self.calc_info()\n",
      "    /var/mobile/Containers/Data/Application/0BA188CA-E9C3-43C9-95B1-07DECEAB16B8/Library/lib/python3.7/site-packages/numpy-1.16.0-py3.7-macosx-10.9-x86_64.egg/numpy/distutils/system_info.py:626: UserWarning:\n",
      "        Lapack (http://www.netlib.org/lapack/) libraries not found.\n",
      "        Directories to search for the libraries can be specified in the\n",
      "        numpy/distutils/site.cfg file (section [lapack]) or by setting\n",
      "        the LAPACK environment variable.\n",
      "      self.calc_info()\n",
      "    /var/mobile/Containers/Data/Application/0BA188CA-E9C3-43C9-95B1-07DECEAB16B8/Library/lib/python3.7/site-packages/numpy-1.16.0-py3.7-macosx-10.9-x86_64.egg/numpy/distutils/system_info.py:626: UserWarning:\n",
      "        Lapack (http://www.netlib.org/lapack/) sources not found.\n",
      "        Directories to search for the sources can be specified in the\n",
      "        numpy/distutils/site.cfg file (section [lapack_src]) or by setting\n",
      "        the LAPACK_SRC environment variable.\n",
      "      self.calc_info()\n",
      "    Traceback (most recent call last):\n",
      "      File \"/var/mobile/Containers/Data/Application/0BA188CA-E9C3-43C9-95B1-07DECEAB16B8/Library/lib/python3.7/site-packages/setuptools/sandbox.py\", line 154, in save_modules\n",
      "        yield saved\n",
      "      File \"/var/mobile/Containers/Data/Application/0BA188CA-E9C3-43C9-95B1-07DECEAB16B8/Library/lib/python3.7/site-packages/setuptools/sandbox.py\", line 195, in setup_context\n",
      "        yield\n",
      "      File \"/var/mobile/Containers/Data/Application/0BA188CA-E9C3-43C9-95B1-07DECEAB16B8/Library/lib/python3.7/site-packages/setuptools/sandbox.py\", line 250, in run_setup\n",
      "        _execfile(setup_script, ns)\n",
      "      File \"/var/mobile/Containers/Data/Application/0BA188CA-E9C3-43C9-95B1-07DECEAB16B8/Library/lib/python3.7/site-packages/setuptools/sandbox.py\", line 45, in _execfile\n",
      "        exec(code, globals, locals)\n",
      "      File \"/private/var/mobile/Containers/Data/Application/0BA188CA-E9C3-43C9-95B1-07DECEAB16B8/tmp/easy_install-sj9lk4_u/scipy-1.4.1/setup.py\", line 540, in <module>\n",
      "      File \"/private/var/mobile/Containers/Data/Application/0BA188CA-E9C3-43C9-95B1-07DECEAB16B8/tmp/easy_install-sj9lk4_u/scipy-1.4.1/setup.py\", line 536, in setup_package\n",
      "      File \"/var/mobile/Containers/Data/Application/0BA188CA-E9C3-43C9-95B1-07DECEAB16B8/Library/lib/python3.7/site-packages/numpy-1.16.0-py3.7-macosx-10.9-x86_64.egg/numpy/distutils/core.py\", line 137, in setup\n",
      "        config = configuration()\n",
      "      File \"/private/var/mobile/Containers/Data/Application/0BA188CA-E9C3-43C9-95B1-07DECEAB16B8/tmp/easy_install-sj9lk4_u/scipy-1.4.1/setup.py\", line 435, in configuration\n",
      "    numpy.distutils.system_info.NotFoundError: No lapack/blas resources found. Note: Accelerate is no longer supported.\n",
      "    \n",
      "    During handling of the above exception, another exception occurred:\n",
      "    \n",
      "    Traceback (most recent call last):\n",
      "      File \"<string>\", line 1, in <module>\n",
      "      File \"/private/var/mobile/Containers/Data/Application/0BA188CA-E9C3-43C9-95B1-07DECEAB16B8/tmp/pip-install-963puknw/statsmodels/setup.py\", line 345, in <module>\n",
      "        zip_safe=False\n",
      "      File \"/var/mobile/Containers/Data/Application/0BA188CA-E9C3-43C9-95B1-07DECEAB16B8/Library/lib/python3.7/site-packages/setuptools/__init__.py\", line 128, in setup\n",
      "        _install_setup_requires(attrs)\n",
      "      File \"/var/mobile/Containers/Data/Application/0BA188CA-E9C3-43C9-95B1-07DECEAB16B8/Library/lib/python3.7/site-packages/setuptools/__init__.py\", line 123, in _install_setup_requires\n",
      "        dist.fetch_build_eggs(dist.setup_requires)\n",
      "      File \"/var/mobile/Containers/Data/Application/0BA188CA-E9C3-43C9-95B1-07DECEAB16B8/Library/lib/python3.7/site-packages/setuptools/dist.py\", line 513, in fetch_build_eggs\n",
      "        replace_conflicting=True,\n",
      "      File \"/var/mobile/Containers/Data/Application/0BA188CA-E9C3-43C9-95B1-07DECEAB16B8/Library/lib/python3.7/site-packages/pkg_resources/__init__.py\", line 774, in resolve\n",
      "        replace_conflicting=replace_conflicting\n",
      "      File \"/var/mobile/Containers/Data/Application/0BA188CA-E9C3-43C9-95B1-07DECEAB16B8/Library/lib/python3.7/site-packages/pkg_resources/__init__.py\", line 1057, in best_match\n",
      "        return self.obtain(req, installer)\n",
      "      File \"/var/mobile/Containers/Data/Application/0BA188CA-E9C3-43C9-95B1-07DECEAB16B8/Library/lib/python3.7/site-packages/pkg_resources/__init__.py\", line 1069, in obtain\n",
      "        return installer(requirement)\n",
      "      File \"/var/mobile/Containers/Data/Application/0BA188CA-E9C3-43C9-95B1-07DECEAB16B8/Library/lib/python3.7/site-packages/setuptools/dist.py\", line 580, in fetch_build_egg\n",
      "        return cmd.easy_install(req)\n",
      "      File \"/var/mobile/Containers/Data/Application/0BA188CA-E9C3-43C9-95B1-07DECEAB16B8/Library/lib/python3.7/site-packages/setuptools/command/easy_install.py\", line 673, in easy_install\n",
      "        return self.install_item(spec, dist.location, tmpdir, deps)\n",
      "      File \"/var/mobile/Containers/Data/Application/0BA188CA-E9C3-43C9-95B1-07DECEAB16B8/Library/lib/python3.7/site-packages/setuptools/command/easy_install.py\", line 699, in install_item\n",
      "        dists = self.install_eggs(spec, download, tmpdir)\n",
      "      File \"/var/mobile/Containers/Data/Application/0BA188CA-E9C3-43C9-95B1-07DECEAB16B8/Library/lib/python3.7/site-packages/setuptools/command/easy_install.py\", line 884, in install_eggs\n",
      "        return self.build_and_install(setup_script, setup_base)\n",
      "      File \"/var/mobile/Containers/Data/Application/0BA188CA-E9C3-43C9-95B1-07DECEAB16B8/Library/lib/python3.7/site-packages/setuptools/command/easy_install.py\", line 1152, in build_and_install\n",
      "        self.run_setup(setup_script, setup_base, args)\n",
      "      File \"/var/mobile/Containers/Data/Application/0BA188CA-E9C3-43C9-95B1-07DECEAB16B8/Library/lib/python3.7/site-packages/setuptools/command/easy_install.py\", line 1138, in run_setup\n",
      "        run_setup(setup_script, args)\n",
      "      File \"/var/mobile/Containers/Data/Application/0BA188CA-E9C3-43C9-95B1-07DECEAB16B8/Library/lib/python3.7/site-packages/setuptools/sandbox.py\", line 253, in run_setup\n",
      "        raise\n",
      "      File \"/var/mobile/Containers/Data/Application/0BA188CA-E9C3-43C9-95B1-07DECEAB16B8/Library/lib/python3.7/contextlib.py\", line 130, in __exit__\n",
      "        self.gen.throw(type, value, traceback)\n",
      "      File \"/var/mobile/Containers/Data/Application/0BA188CA-E9C3-43C9-95B1-07DECEAB16B8/Library/lib/python3.7/site-packages/setuptools/sandbox.py\", line 195, in setup_context\n",
      "        yield\n",
      "      File \"/var/mobile/Containers/Data/Application/0BA188CA-E9C3-43C9-95B1-07DECEAB16B8/Library/lib/python3.7/contextlib.py\", line 130, in __exit__\n",
      "        self.gen.throw(type, value, traceback)\n",
      "      File \"/var/mobile/Containers/Data/Application/0BA188CA-E9C3-43C9-95B1-07DECEAB16B8/Library/lib/python3.7/site-packages/setuptools/sandbox.py\", line 166, in save_modules\n",
      "        saved_exc.resume()\n",
      "      File \"/var/mobile/Containers/Data/Application/0BA188CA-E9C3-43C9-95B1-07DECEAB16B8/Library/lib/python3.7/site-packages/setuptools/sandbox.py\", line 141, in resume\n",
      "        six.reraise(type, exc, self._tb)\n",
      "      File \"/var/mobile/Containers/Data/Application/0BA188CA-E9C3-43C9-95B1-07DECEAB16B8/Library/lib/python3.7/site-packages/setuptools/_vendor/six.py\", line 685, in reraise\n",
      "        raise value.with_traceback(tb)\n",
      "      File \"/var/mobile/Containers/Data/Application/0BA188CA-E9C3-43C9-95B1-07DECEAB16B8/Library/lib/python3.7/site-packages/setuptools/sandbox.py\", line 154, in save_modules\n",
      "        yield saved\n",
      "      File \"/var/mobile/Containers/Data/Application/0BA188CA-E9C3-43C9-95B1-07DECEAB16B8/Library/lib/python3.7/site-packages/setuptools/sandbox.py\", line 195, in setup_context\n",
      "        yield\n",
      "      File \"/var/mobile/Containers/Data/Application/0BA188CA-E9C3-43C9-95B1-07DECEAB16B8/Library/lib/python3.7/site-packages/setuptools/sandbox.py\", line 250, in run_setup\n",
      "        _execfile(setup_script, ns)\n",
      "      File \"/var/mobile/Containers/Data/Application/0BA188CA-E9C3-43C9-95B1-07DECEAB16B8/Library/lib/python3.7/site-packages/setuptools/sandbox.py\", line 45, in _execfile\n",
      "        exec(code, globals, locals)\n",
      "      File \"/private/var/mobile/Containers/Data/Application/0BA188CA-E9C3-43C9-95B1-07DECEAB16B8/tmp/easy_install-sj9lk4_u/scipy-1.4.1/setup.py\", line 540, in <module>\n",
      "      File \"/private/var/mobile/Containers/Data/Application/0BA188CA-E9C3-43C9-95B1-07DECEAB16B8/tmp/easy_install-sj9lk4_u/scipy-1.4.1/setup.py\", line 536, in setup_package\n",
      "      File \"/var/mobile/Containers/Data/Application/0BA188CA-E9C3-43C9-95B1-07DECEAB16B8/Library/lib/python3.7/site-packages/numpy-1.16.0-py3.7-macosx-10.9-x86_64.egg/numpy/distutils/core.py\", line 137, in setup\n",
      "        config = configuration()\n",
      "      File \"/private/var/mobile/Containers/Data/Application/0BA188CA-E9C3-43C9-95B1-07DECEAB16B8/tmp/easy_install-sj9lk4_u/scipy-1.4.1/setup.py\", line 435, in configuration\n",
      "    numpy.distutils.system_info.NotFoundError: No lapack/blas resources found. Note: Accelerate is no longer supported.\n",
      "    ----------------------------------------\n",
      "ERROR: Command \"python setup.py egg_info\" failed with error code 1 in /private/var/mobile/Containers/Data/Application/0BA188CA-E9C3-43C9-95B1-07DECEAB16B8/tmp/pip-install-963puknw/statsmodels/\n"
     ]
    }
   ],
   "source": [
    "!pip install linearmodels"
   ]
  },
  {
   "cell_type": "code",
   "execution_count": null,
   "metadata": {},
   "outputs": [],
   "source": []
  }
 ],
 "metadata": {
  "kernelspec": {
   "display_name": "Python 3",
   "language": "python",
   "name": "python3"
  },
  "language_info": {
   "codemirror_mode": {
    "name": "ipython",
    "version": 3
   },
   "file_extension": ".py",
   "mimetype": "text/x-python",
   "name": "python",
   "nbconvert_exporter": "python",
   "pygments_lexer": "ipython3",
   "version": "3.7.1"
  },
  "varInspector": {
   "cols": {
    "lenName": 16,
    "lenType": 16,
    "lenVar": 40
   },
   "kernels_config": {
    "python": {
     "delete_cmd_postfix": "",
     "delete_cmd_prefix": "del ",
     "library": "var_list.py",
     "varRefreshCmd": "print(var_dic_list())"
    },
    "r": {
     "delete_cmd_postfix": ") ",
     "delete_cmd_prefix": "rm(",
     "library": "var_list.r",
     "varRefreshCmd": "cat(var_dic_list()) "
    }
   },
   "types_to_exclude": [
    "module",
    "function",
    "builtin_function_or_method",
    "instance",
    "_Feature"
   ],
   "window_display": false
  }
 },
 "nbformat": 4,
 "nbformat_minor": 2
}
